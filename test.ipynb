{
 "cells": [
  {
   "cell_type": "code",
   "execution_count": 1,
   "metadata": {},
   "outputs": [],
   "source": [
    "import keras_ocr\n",
    "import matplotlib.pyplot as plt\n",
    "import pandas as pd"
   ]
  },
  {
   "cell_type": "code",
   "execution_count": 2,
   "metadata": {},
   "outputs": [
    {
     "name": "stdout",
     "output_type": "stream",
     "text": [
      "Looking for C:\\Users\\anask\\.keras-ocr\\craft_mlt_25k.h5\n",
      "Looking for C:\\Users\\anask\\.keras-ocr\\crnn_kurapan.h5\n"
     ]
    }
   ],
   "source": [
    "pipeline = keras_ocr.pipeline.Pipeline()"
   ]
  },
  {
   "cell_type": "code",
   "execution_count": 7,
   "metadata": {},
   "outputs": [
    {
     "name": "stdout",
     "output_type": "stream",
     "text": [
      "1/1 [==============================] - 11s 11s/step\n",
      "10/10 [==============================] - 17s 2s/step\n"
     ]
    }
   ],
   "source": [
    "results = pipeline.recognize([r'first_page4.png'])"
   ]
  },
  {
   "cell_type": "code",
   "execution_count": 9,
   "metadata": {},
   "outputs": [
    {
     "data": {
      "text/html": [
       "<div>\n",
       "<style scoped>\n",
       "    .dataframe tbody tr th:only-of-type {\n",
       "        vertical-align: middle;\n",
       "    }\n",
       "\n",
       "    .dataframe tbody tr th {\n",
       "        vertical-align: top;\n",
       "    }\n",
       "\n",
       "    .dataframe thead th {\n",
       "        text-align: right;\n",
       "    }\n",
       "</style>\n",
       "<table border=\"1\" class=\"dataframe\">\n",
       "  <thead>\n",
       "    <tr style=\"text-align: right;\">\n",
       "      <th></th>\n",
       "      <th>text</th>\n",
       "      <th>bbox</th>\n",
       "    </tr>\n",
       "  </thead>\n",
       "  <tbody>\n",
       "    <tr>\n",
       "      <th>0</th>\n",
       "      <td>sbi</td>\n",
       "      <td>[[238.17392, 119.794785], [428.644, 123.604195...</td>\n",
       "    </tr>\n",
       "    <tr>\n",
       "      <th>1</th>\n",
       "      <td>lakhotia</td>\n",
       "      <td>[[724.0849, 264.96484], [847.4306, 264.96484],...</td>\n",
       "    </tr>\n",
       "    <tr>\n",
       "      <th>2</th>\n",
       "      <td>account</td>\n",
       "      <td>[[100.50391, 267.24902], [191.8711, 267.24902]...</td>\n",
       "    </tr>\n",
       "    <tr>\n",
       "      <th>3</th>\n",
       "      <td>name</td>\n",
       "      <td>[[198.72363, 267.24902], [264.96484, 267.24902...</td>\n",
       "    </tr>\n",
       "    <tr>\n",
       "      <th>4</th>\n",
       "      <td>mr</td>\n",
       "      <td>[[395.1631, 267.24902], [440.84668, 267.24902]...</td>\n",
       "    </tr>\n",
       "    <tr>\n",
       "      <th>5</th>\n",
       "      <td>shubham</td>\n",
       "      <td>[[445.41504, 267.24902], [573.3291, 267.24902]...</td>\n",
       "    </tr>\n",
       "    <tr>\n",
       "      <th>6</th>\n",
       "      <td>rajkumar</td>\n",
       "      <td>[[577.89746, 267.24902], [717.2324, 267.24902]...</td>\n",
       "    </tr>\n",
       "    <tr>\n",
       "      <th>7</th>\n",
       "      <td>address</td>\n",
       "      <td>[[100.50391, 340.34277], [191.8711, 340.34277]...</td>\n",
       "    </tr>\n",
       "    <tr>\n",
       "      <th>8</th>\n",
       "      <td>f16068</td>\n",
       "      <td>[[392.8789, 340.34277], [479.67773, 340.34277]...</td>\n",
       "    </tr>\n",
       "    <tr>\n",
       "      <th>9</th>\n",
       "      <td>station</td>\n",
       "      <td>[[484.2461, 340.34277], [593.8867, 340.34277],...</td>\n",
       "    </tr>\n",
       "  </tbody>\n",
       "</table>\n",
       "</div>"
      ],
      "text/plain": [
       "       text                                               bbox\n",
       "0       sbi  [[238.17392, 119.794785], [428.644, 123.604195...\n",
       "1  lakhotia  [[724.0849, 264.96484], [847.4306, 264.96484],...\n",
       "2   account  [[100.50391, 267.24902], [191.8711, 267.24902]...\n",
       "3      name  [[198.72363, 267.24902], [264.96484, 267.24902...\n",
       "4        mr  [[395.1631, 267.24902], [440.84668, 267.24902]...\n",
       "5   shubham  [[445.41504, 267.24902], [573.3291, 267.24902]...\n",
       "6  rajkumar  [[577.89746, 267.24902], [717.2324, 267.24902]...\n",
       "7   address  [[100.50391, 340.34277], [191.8711, 340.34277]...\n",
       "8    f16068  [[392.8789, 340.34277], [479.67773, 340.34277]...\n",
       "9   station  [[484.2461, 340.34277], [593.8867, 340.34277],..."
      ]
     },
     "execution_count": 9,
     "metadata": {},
     "output_type": "execute_result"
    }
   ],
   "source": [
    "df = pd.DataFrame(results[0], columns=['text', 'bbox'])\n",
    "df[:10]"
   ]
  }
 ],
 "metadata": {
  "kernelspec": {
   "display_name": ".venv",
   "language": "python",
   "name": "python3"
  },
  "language_info": {
   "codemirror_mode": {
    "name": "ipython",
    "version": 3
   },
   "file_extension": ".py",
   "mimetype": "text/x-python",
   "name": "python",
   "nbconvert_exporter": "python",
   "pygments_lexer": "ipython3",
   "version": "3.8.10"
  }
 },
 "nbformat": 4,
 "nbformat_minor": 2
}
